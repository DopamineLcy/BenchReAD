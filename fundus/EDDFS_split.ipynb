{
 "cells": [
  {
   "cell_type": "code",
   "execution_count": null,
   "metadata": {},
   "outputs": [],
   "source": [
    "import os\n",
    "import pandas as pd\n",
    "import numpy as np\n",
    "import random\n",
    "\n",
    "seed = 0\n",
    "random.seed(seed)\n",
    "np.random.seed(seed)"
   ]
  },
  {
   "cell_type": "code",
   "execution_count": 99,
   "metadata": {},
   "outputs": [],
   "source": [
    "EDDFS_root = './data/EDDFS'\n",
    "EDDFS_train_df = pd.read_csv('./data/EDDFS/train.csv')\n",
    "EDDFS_test_df = pd.read_csv('./data/EDDFS/test.csv')"
   ]
  },
  {
   "cell_type": "code",
   "execution_count": 100,
   "metadata": {},
   "outputs": [],
   "source": [
    "EDDFS_df = pd.concat([EDDFS_train_df, EDDFS_test_df], ignore_index=True)"
   ]
  },
  {
   "cell_type": "code",
   "execution_count": 101,
   "metadata": {},
   "outputs": [],
   "source": [
    "EDDFS_df['abnormal'] = EDDFS_df['normal'].apply(lambda x: 0 if x == 1 else 1)"
   ]
  },
  {
   "cell_type": "code",
   "execution_count": 103,
   "metadata": {},
   "outputs": [],
   "source": [
    "EDDFS_df_normal_original = EDDFS_df[EDDFS_df['normal'] == 1]\n",
    "EDDFS_df_abnormal_original = EDDFS_df[EDDFS_df['normal'] == 0]"
   ]
  },
  {
   "cell_type": "code",
   "execution_count": null,
   "metadata": {},
   "outputs": [],
   "source": [
    "len(EDDFS_df_normal_original), len(EDDFS_df_abnormal_original)"
   ]
  },
  {
   "cell_type": "code",
   "execution_count": 105,
   "metadata": {},
   "outputs": [],
   "source": [
    "EDDFS_df_abnormal_original_no_others = EDDFS_df_abnormal_original[(EDDFS_df_abnormal_original['RVO'] == 0) & (EDDFS_df_abnormal_original['LS'] == 0) & (EDDFS_df_abnormal_original['hyper'] == 0) & (EDDFS_df_abnormal_original['others'] == 0)]"
   ]
  },
  {
   "cell_type": "code",
   "execution_count": null,
   "metadata": {},
   "outputs": [],
   "source": [
    "len(EDDFS_df_abnormal_original_no_others)"
   ]
  },
  {
   "cell_type": "code",
   "execution_count": null,
   "metadata": {},
   "outputs": [],
   "source": [
    "# randomly select 50 normal lines and 50 abnormal lines as validation set\n",
    "EDDFS_df_normal_val = EDDFS_df_normal_original.sample(n=50, random_state=seed)\n",
    "EDDFS_df_abnormal_val = EDDFS_df_abnormal_original_no_others.sample(n=50, random_state=seed)\n",
    "EDDFS_df_val = pd.concat([EDDFS_df_normal_val, EDDFS_df_abnormal_val])\n",
    "EDDFS_df_val.to_csv('./data/EDDFS/BenchReAD/valid.csv', index=False)\n",
    "print(len(EDDFS_df_val))"
   ]
  },
  {
   "cell_type": "code",
   "execution_count": null,
   "metadata": {},
   "outputs": [],
   "source": [
    "# remove the validation set from the original dataset\n",
    "EDDFS_df_normal = EDDFS_df_normal_original[~EDDFS_df_normal_original.index.isin(EDDFS_df_normal_val.index)]\n",
    "EDDFS_df_abnormal_no_others = EDDFS_df_abnormal_original_no_others[~EDDFS_df_abnormal_original_no_others.index.isin(EDDFS_df_abnormal_val.index)]\n",
    "print(len(EDDFS_df_normal), len(EDDFS_df_abnormal_no_others))"
   ]
  },
  {
   "cell_type": "code",
   "execution_count": null,
   "metadata": {},
   "outputs": [],
   "source": [
    "# randomly select 1/3 normal lines as normal_labeled set\n",
    "EDDFS_df_normal_labeled = EDDFS_df_normal.sample(n=len(EDDFS_df_normal)//3, random_state=seed)\n",
    "print('normal labeled:', len(EDDFS_df_normal_labeled))\n",
    "# randomly select 1/3 abnormal lines as abnormal_labeled set\n",
    "EDDFS_df_abnormal_labeled = EDDFS_df_abnormal_no_others.sample(n=len(EDDFS_df_abnormal_no_others)//3, random_state=seed)\n",
    "print('abnormal labeled:', len(EDDFS_df_abnormal_labeled))\n",
    "EDDFS_df_train_labeled = pd.concat([EDDFS_df_normal_labeled, EDDFS_df_abnormal_labeled])\n",
    "EDDFS_df_train_labeled.to_csv('./data/EDDFS/BenchReAD/train_labeled.csv', index=False)\n",
    "print('train labeled:', len(EDDFS_df_train_labeled))\n"
   ]
  },
  {
   "cell_type": "code",
   "execution_count": null,
   "metadata": {},
   "outputs": [],
   "source": [
    "# other normal lines and abnormal lines as unlabeled set\n",
    "EDDFS_df_normal_unlabeled = EDDFS_df_normal[~EDDFS_df_normal.index.isin(EDDFS_df_train_labeled.index)]\n",
    "print('normal unlabeled:', len(EDDFS_df_normal_unlabeled))\n",
    "EDDFS_df_abnormal_unlabeled = EDDFS_df_abnormal_no_others[~EDDFS_df_abnormal_no_others.index.isin(EDDFS_df_train_labeled.index)]\n",
    "print('abnormal unlabeled:', len(EDDFS_df_abnormal_unlabeled))\n",
    "EDDFS_df_train_unlabeled = pd.concat([EDDFS_df_normal_unlabeled, EDDFS_df_abnormal_unlabeled])\n",
    "EDDFS_df_train_unlabeled.to_csv('./data/EDDFS/BenchReAD/train_unlabeled.csv', index=False)\n",
    "print('train unlabeled:', len(EDDFS_df_train_unlabeled))\n"
   ]
  },
  {
   "cell_type": "code",
   "execution_count": 111,
   "metadata": {},
   "outputs": [],
   "source": [
    "assert len(EDDFS_df_normal_labeled) + len(EDDFS_df_normal_unlabeled) + len(EDDFS_df_normal_val) == len(EDDFS_df_normal_original)\n",
    "assert len(EDDFS_df_abnormal_labeled) + len(EDDFS_df_abnormal_unlabeled) + len(EDDFS_df_abnormal_val) == len(EDDFS_df_abnormal_original_no_others)"
   ]
  }
 ],
 "metadata": {
  "kernelspec": {
   "display_name": "torch2",
   "language": "python",
   "name": "python3"
  },
  "language_info": {
   "codemirror_mode": {
    "name": "ipython",
    "version": 3
   },
   "file_extension": ".py",
   "mimetype": "text/x-python",
   "name": "python",
   "nbconvert_exporter": "python",
   "pygments_lexer": "ipython3",
   "version": "3.10.15"
  }
 },
 "nbformat": 4,
 "nbformat_minor": 2
}
