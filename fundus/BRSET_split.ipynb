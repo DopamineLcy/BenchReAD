{
 "cells": [
  {
   "cell_type": "code",
   "execution_count": 199,
   "metadata": {},
   "outputs": [],
   "source": [
    "import pandas as pd\n",
    "import os\n",
    "import numpy as np\n",
    "import random\n",
    "\n",
    "seed = 0\n",
    "random.seed(seed)\n",
    "np.random.seed(seed)"
   ]
  },
  {
   "cell_type": "code",
   "execution_count": 200,
   "metadata": {},
   "outputs": [],
   "source": [
    "BRSET_root = './data/brazilian-ophthalmological/1.0.1'\n",
    "BRSET_df = pd.read_csv(os.path.join(BRSET_root, 'labels_brset.csv'))"
   ]
  },
  {
   "cell_type": "code",
   "execution_count": 203,
   "metadata": {},
   "outputs": [],
   "source": [
    "# add a new column 'normal' to indicate whether the image is abnormal, the value is 0 if columes from 20 to 33 are all 0, otherwise 1\n",
    "BRSET_df['abnormal'] = BRSET_df.iloc[:, 20:33].apply(lambda x: 0 if x.sum() == 0 else 1, axis=1)"
   ]
  },
  {
   "cell_type": "code",
   "execution_count": 204,
   "metadata": {},
   "outputs": [],
   "source": [
    "BRSET_df_normal_original = BRSET_df[BRSET_df['abnormal'] == 0]"
   ]
  },
  {
   "cell_type": "code",
   "execution_count": null,
   "metadata": {},
   "outputs": [],
   "source": [
    "print(len(BRSET_df_normal_original))"
   ]
  },
  {
   "cell_type": "code",
   "execution_count": null,
   "metadata": {},
   "outputs": [],
   "source": [
    "BRSET_df_abnormal_original = BRSET_df[BRSET_df['abnormal'] == 1]\n",
    "print(len(BRSET_df_abnormal_original))\n",
    "BRSET_df_abnormal_original_no_others = BRSET_df_abnormal_original[(BRSET_df_abnormal_original['macular_edema'] == 0) & (BRSET_df_abnormal_original['scar'] == 0) & (BRSET_df_abnormal_original['nevus'] == 0) & (BRSET_df_abnormal_original['vascular_occlusion'] == 0) & (BRSET_df_abnormal_original['hypertensive_retinopathy'] == 0) & (BRSET_df_abnormal_original['hemorrhage'] == 0) & (BRSET_df_abnormal_original['retinal_detachment'] == 0) & (BRSET_df_abnormal_original['other'] == 0)]\n",
    "print(len(BRSET_df_abnormal_original_no_others))"
   ]
  },
  {
   "cell_type": "code",
   "execution_count": 207,
   "metadata": {},
   "outputs": [],
   "source": [
    "# randomly select 50 normal lines and 50 abnormal lines as validation set\n",
    "BRSET_df_normal_val = BRSET_df_normal_original.sample(n=50, random_state=seed)\n",
    "BRSET_df_abnormal_val = BRSET_df_abnormal_original_no_others.sample(n=50, random_state=seed)\n",
    "BRSET_df_val = pd.concat([BRSET_df_normal_val, BRSET_df_abnormal_val])\n",
    "BRSET_df_val.to_csv('./data/brazilian-ophthalmological/1.0.1/BenchReAD/valid.csv', index=False)"
   ]
  },
  {
   "cell_type": "code",
   "execution_count": null,
   "metadata": {},
   "outputs": [],
   "source": [
    "print(len(BRSET_df_val))"
   ]
  },
  {
   "cell_type": "code",
   "execution_count": 209,
   "metadata": {},
   "outputs": [],
   "source": [
    "# remove the validation set from the original dataset\n",
    "BRSET_df_normal = BRSET_df_normal_original[~BRSET_df_normal_original.index.isin(BRSET_df_normal_val.index)]\n",
    "BRSET_df_abnormal_no_others = BRSET_df_abnormal_original_no_others[~BRSET_df_abnormal_original_no_others.index.isin(BRSET_df_abnormal_val.index)]"
   ]
  },
  {
   "cell_type": "code",
   "execution_count": null,
   "metadata": {},
   "outputs": [],
   "source": [
    "print(len(BRSET_df_normal))\n",
    "print(len(BRSET_df_abnormal_no_others))"
   ]
  },
  {
   "cell_type": "code",
   "execution_count": 211,
   "metadata": {},
   "outputs": [],
   "source": [
    "normal_num = len(BRSET_df_normal)\n",
    "abnormal_num = len(BRSET_df_abnormal_no_others)"
   ]
  },
  {
   "cell_type": "code",
   "execution_count": null,
   "metadata": {},
   "outputs": [],
   "source": [
    "# randomly select 1/3 normal lines as normal_labeled set\n",
    "BRSET_df_normal_labeled = BRSET_df_normal.sample(n=normal_num//3, random_state=seed)\n",
    "print(len(BRSET_df_normal_labeled))\n",
    "\n",
    "# randomly select 1/3 abnormal lines as abnormal_labeled set\n",
    "BRSET_df_abnormal_labeled = BRSET_df_abnormal_no_others.sample(n=abnormal_num//3, random_state=seed)\n",
    "print(len(BRSET_df_abnormal_labeled))\n",
    "\n",
    "BRSET_df_train_labeled = pd.concat([BRSET_df_normal_labeled, BRSET_df_abnormal_labeled])\n",
    "print(len(BRSET_df_train_labeled))\n",
    "BRSET_df_train_labeled.to_csv('./data/brazilian-ophthalmological/1.0.1/BenchReAD/train_labeled.csv', index=False)\n"
   ]
  },
  {
   "cell_type": "code",
   "execution_count": null,
   "metadata": {},
   "outputs": [],
   "source": [
    "# other normal lines and abnormal lines as unlabeled set\n",
    "BRSET_df_normal_unlabeled = BRSET_df_normal[~BRSET_df_normal.index.isin(BRSET_df_normal_labeled.index)]\n",
    "print(len(BRSET_df_normal_unlabeled))\n",
    "BRSET_df_abnormal_unlabeled = BRSET_df_abnormal_no_others[~BRSET_df_abnormal_no_others.index.isin(BRSET_df_abnormal_labeled.index)]\n",
    "print(len(BRSET_df_abnormal_unlabeled))\n",
    "BRSET_df_unlabeled = pd.concat([BRSET_df_normal_unlabeled, BRSET_df_abnormal_unlabeled])\n",
    "BRSET_df_unlabeled.to_csv('./data/brazilian-ophthalmological/1.0.1/BenchReAD/train_unlabeled.csv', index=False)\n",
    "print(len(BRSET_df_unlabeled))"
   ]
  },
  {
   "cell_type": "code",
   "execution_count": 214,
   "metadata": {},
   "outputs": [],
   "source": [
    "assert len(BRSET_df_normal_labeled) + len(BRSET_df_normal_unlabeled) + len(BRSET_df_normal_val) == len(BRSET_df_normal_original)\n",
    "assert len(BRSET_df_abnormal_labeled) + len(BRSET_df_abnormal_unlabeled) + len(BRSET_df_abnormal_val) == len(BRSET_df_abnormal_original_no_others)\n"
   ]
  }
 ],
 "metadata": {
  "kernelspec": {
   "display_name": "torch2",
   "language": "python",
   "name": "python3"
  },
  "language_info": {
   "codemirror_mode": {
    "name": "ipython",
    "version": 3
   },
   "file_extension": ".py",
   "mimetype": "text/x-python",
   "name": "python",
   "nbconvert_exporter": "python",
   "pygments_lexer": "ipython3",
   "version": "3.10.15"
  }
 },
 "nbformat": 4,
 "nbformat_minor": 2
}
