{
 "cells": [
  {
   "cell_type": "code",
   "execution_count": 6,
   "metadata": {},
   "outputs": [],
   "source": [
    "import os\n",
    "import pandas as pd"
   ]
  },
  {
   "cell_type": "code",
   "execution_count": null,
   "metadata": {},
   "outputs": [],
   "source": [
    "# list number of files in each subfolder, sorted by dictionary order, number >= 20\n",
    "selected_catogeries = [\n",
    "    '0.0.Normal', \n",
    "    '0.2.Large optic cup',\n",
    "    '0.3.DR1',\n",
    "    '1.0.DR2',\n",
    "    '1.1.DR3',\n",
    "    '2.0.BRVO',\n",
    "    '2.1.CRVO',\n",
    "    '4.Rhegmatogenous RD',\n",
    "    '6.Maculopathy',\n",
    "    '7.ERM',\n",
    "    '8.MH',\n",
    "    '9.Pathological myopia',\n",
    "    '15.0.Retinitis pigmentosa',\n",
    "    '21.Yellow-white spots-flecks',\n",
    "    '27.Laser Spots',\n",
    "    '29.0.Blur fundus without PDR',\n",
    "    '29.1.Blur fundus with suspected PDR'\n",
    "]"
   ]
  },
  {
   "cell_type": "code",
   "execution_count": null,
   "metadata": {},
   "outputs": [
    {
     "name": "stdout",
     "output_type": "stream",
     "text": [
      "0.0.Normal 38\n",
      "0.2.Large optic cup 50\n",
      "0.3.DR1 18\n",
      "1.0.DR2 49\n",
      "1.1.DR3 39\n",
      "15.0.Retinitis pigmentosa 22\n",
      "2.0.BRVO 44\n",
      "2.1.CRVO 22\n",
      "21.Yellow-white spots-flecks 29\n",
      "27.Laser Spots 20\n",
      "29.0.Blur fundus without PDR 114\n",
      "29.1.Blur fundus with suspected PDR 45\n",
      "4.Rhegmatogenous RD 57\n",
      "6.Maculopathy 74\n",
      "7.ERM 26\n",
      "8.MH 23\n",
      "9.Pathological myopia 54\n"
     ]
    }
   ],
   "source": [
    "fnames = []\n",
    "dirs = []\n",
    "labels = []\n",
    "abnormal = []\n",
    "root = './data/JSIEC/1000images'\n",
    "for folder in sorted(os.listdir(root)):\n",
    "    if folder in selected_catogeries:\n",
    "        print(folder, len(os.listdir(os.path.join(root, folder))))\n",
    "        fnames.extend(os.listdir(os.path.join(root, folder)))\n",
    "        dirs.extend([folder]*len(os.listdir(os.path.join(root, folder))))\n",
    "        if folder in ['0.3.DR1', '1.0.DR2', '1.1.DR3']:\n",
    "            labels.extend(['DR']*len(os.listdir(os.path.join(root, folder))))\n",
    "        else:\n",
    "            labels.extend([folder]*len(os.listdir(os.path.join(root, folder))))\n",
    "        if folder == '0.0.Normal':\n",
    "            abnormal.extend([0]*len(os.listdir(os.path.join(root, folder))))\n",
    "        else:\n",
    "            abnormal.extend([1]*len(os.listdir(os.path.join(root, folder))))\n",
    "JSIEC_dict = pd.DataFrame({\"fnames\": fnames, \"dirs\": dirs, \"labels\": labels, \"abnormal\": abnormal})\n",
    "JSIEC_dict.to_csv(os.path.join(root, \"JSIEC_test.csv\"), index=False)"
   ]
  },
  {
   "cell_type": "code",
   "execution_count": null,
   "metadata": {},
   "outputs": [],
   "source": []
  }
 ],
 "metadata": {
  "kernelspec": {
   "display_name": "torch2",
   "language": "python",
   "name": "python3"
  },
  "language_info": {
   "codemirror_mode": {
    "name": "ipython",
    "version": 3
   },
   "file_extension": ".py",
   "mimetype": "text/x-python",
   "name": "python",
   "nbconvert_exporter": "python",
   "pygments_lexer": "ipython3",
   "version": "3.10.15"
  }
 },
 "nbformat": 4,
 "nbformat_minor": 2
}
