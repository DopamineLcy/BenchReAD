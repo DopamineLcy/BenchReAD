{
 "cells": [
  {
   "cell_type": "code",
   "execution_count": 6,
   "metadata": {},
   "outputs": [],
   "source": [
    "import pandas as pd\n",
    "import os"
   ]
  },
  {
   "cell_type": "code",
   "execution_count": 7,
   "metadata": {},
   "outputs": [],
   "source": [
    "selected_catogeries = ['DR','ARMD', 'ODC', 'MYA', 'DN', 'MH', 'BRVO', 'TSLN', 'CSR', 'CRVO', 'ODP', 'ODE', 'RS', 'CRS', 'RPEC']"
   ]
  },
  {
   "cell_type": "code",
   "execution_count": 8,
   "metadata": {},
   "outputs": [],
   "source": [
    "RIADD_root = './data/RIADD/'\n",
    "RIADD_train_root = RIADD_root + 'train_set'\n",
    "RIADD_train_csv = RIADD_train_root + '/RFMiD_Training_Labels.csv'\n",
    "\n",
    "RIADD_val_root = RIADD_root + 'val_set'\n",
    "RIADD_val_csv = RIADD_val_root + '/RFMiD_Validation_Label.csv'\n",
    "\n",
    "RIADD_test_root = RIADD_root + 'test_set'\n",
    "RIADD_test_csv = RIADD_test_root + '/RFMiD_Testing_Labels.csv'\n"
   ]
  },
  {
   "cell_type": "code",
   "execution_count": null,
   "metadata": {},
   "outputs": [],
   "source": [
    "RIADD_train_information = pd.read_csv(RIADD_train_csv)\n",
    "print(len(RIADD_train_information))\n",
    "normal_RIADD_train_information = RIADD_train_information[RIADD_train_information['Disease_Risk'] == 0]\n",
    "print(len(normal_RIADD_train_information))\n",
    "abnormal_RIADD_train_information = RIADD_train_information[RIADD_train_information['Disease_Risk'] == 1]\n",
    "print(len(abnormal_RIADD_train_information))\n",
    "# only one category\n",
    "abnormal_RIADD_train_information_selected = abnormal_RIADD_train_information[abnormal_RIADD_train_information.iloc[:, 2:].sum(axis=1) == 1]\n",
    "print(len(abnormal_RIADD_train_information_selected))\n",
    "abnormal_RIADD_train_information_selected = abnormal_RIADD_train_information_selected[abnormal_RIADD_train_information[selected_catogeries].sum(axis=1) == 1]\n",
    "print(len(abnormal_RIADD_train_information_selected))\n"
   ]
  },
  {
   "cell_type": "code",
   "execution_count": null,
   "metadata": {},
   "outputs": [],
   "source": [
    "RIADD_val_information = pd.read_csv(RIADD_val_csv)\n",
    "print(len(RIADD_val_information))\n",
    "normal_RIADD_val_information = RIADD_val_information[RIADD_val_information['Disease_Risk'] == 0]\n",
    "print(len(normal_RIADD_val_information))\n",
    "abnormal_RIADD_val_information = RIADD_val_information[RIADD_val_information['Disease_Risk'] == 1]\n",
    "print(len(abnormal_RIADD_val_information))\n",
    "\n",
    "abnormal_RIADD_val_information_selected = abnormal_RIADD_val_information[abnormal_RIADD_val_information.iloc[:, 2:].sum(axis=1) == 1]\n",
    "abnormal_RIADD_val_information_selected = abnormal_RIADD_val_information_selected[abnormal_RIADD_val_information_selected[selected_catogeries].sum(axis=1) == 1]\n",
    "print(len(abnormal_RIADD_val_information_selected))"
   ]
  },
  {
   "cell_type": "code",
   "execution_count": null,
   "metadata": {},
   "outputs": [],
   "source": [
    "RIADD_test_information = pd.read_csv(RIADD_test_csv)\n",
    "print(len(RIADD_test_information))\n",
    "normal_RIADD_test_information = RIADD_test_information[RIADD_test_information['Disease_Risk'] == 0]\n",
    "print(len(normal_RIADD_test_information))\n",
    "abnormal_RIADD_test_information = RIADD_test_information[RIADD_test_information['Disease_Risk'] == 1]\n",
    "print(len(abnormal_RIADD_test_information))\n",
    "\n",
    "abnormal_RIADD_test_information_selected = abnormal_RIADD_test_information[abnormal_RIADD_test_information.iloc[:, 2:].sum(axis=1) == 1]\n",
    "abnormal_RIADD_test_information_selected = abnormal_RIADD_test_information_selected[abnormal_RIADD_test_information_selected[selected_catogeries].sum(axis=1) == 1]\n",
    "print(len(abnormal_RIADD_test_information_selected))"
   ]
  },
  {
   "cell_type": "code",
   "execution_count": null,
   "metadata": {},
   "outputs": [],
   "source": [
    "normal_RIADD_train_information.loc[:, 'dir'] = 'train_set/Training_Preprocessed'\n",
    "normal_RIADD_val_information.loc[:, 'dir'] = 'val_set/Validation_Preprocessed'\n",
    "normal_RIADD_test_information.loc[:, 'dir'] = 'test_set/Test_Preprocessed'"
   ]
  },
  {
   "cell_type": "code",
   "execution_count": null,
   "metadata": {},
   "outputs": [],
   "source": [
    "RIADD_normal = pd.concat([normal_RIADD_train_information, normal_RIADD_val_information, normal_RIADD_test_information])\n",
    "print(len(RIADD_normal))\n"
   ]
  },
  {
   "cell_type": "code",
   "execution_count": null,
   "metadata": {},
   "outputs": [],
   "source": [
    "abnormal_RIADD_train_information_selected.loc[:, 'dir'] = 'train_set/Training_Preprocessed'\n",
    "abnormal_RIADD_val_information_selected.loc[:, 'dir'] = 'val_set/Validation_Preprocessed'\n",
    "abnormal_RIADD_test_information_selected.loc[:, 'dir'] = 'test_set/Test_Preprocessed'\n",
    "RIADD_abnormal = pd.concat([abnormal_RIADD_train_information_selected, abnormal_RIADD_val_information_selected, abnormal_RIADD_test_information_selected])\n",
    "print(len(RIADD_abnormal))"
   ]
  },
  {
   "cell_type": "code",
   "execution_count": 17,
   "metadata": {},
   "outputs": [],
   "source": [
    "RIADD_normal.to_csv(os.path.join(RIADD_root, 'RIADD_normal.csv'), index=False)\n",
    "RIADD_abnormal.to_csv(os.path.join(RIADD_root, 'RIADD_abnormal.csv'), index=False)\n"
   ]
  }
 ],
 "metadata": {
  "kernelspec": {
   "display_name": "torch2",
   "language": "python",
   "name": "python3"
  },
  "language_info": {
   "codemirror_mode": {
    "name": "ipython",
    "version": 3
   },
   "file_extension": ".py",
   "mimetype": "text/x-python",
   "name": "python",
   "nbconvert_exporter": "python",
   "pygments_lexer": "ipython3",
   "version": "3.10.15"
  }
 },
 "nbformat": 4,
 "nbformat_minor": 2
}
