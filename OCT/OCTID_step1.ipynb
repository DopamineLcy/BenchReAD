{
 "cells": [
  {
   "cell_type": "code",
   "execution_count": 11,
   "metadata": {},
   "outputs": [],
   "source": [
    "import os\n",
    "import cv2\n",
    "import numpy as np"
   ]
  },
  {
   "cell_type": "code",
   "execution_count": 12,
   "metadata": {},
   "outputs": [],
   "source": [
    "root = './data/OCTID'"
   ]
  },
  {
   "cell_type": "code",
   "execution_count": 13,
   "metadata": {},
   "outputs": [],
   "source": [
    "selected_catogeries = {\n",
    "    'NO': 'Normal-Retinal-OCT-images', \n",
    "    'AMD': 'Age-related-Macular-Degeneration-Retinal-OCT-images',\n",
    "    'DR': 'Diabetic-Retinopathy-Retinal-OCT-Images',\n",
    "    'CSR': 'Central-serous-retinopathy-retinal-OCT-images',\n",
    "    'MH': 'Macular-Hole-Retinal-OCT-images'\n",
    "}\n"
   ]
  },
  {
   "cell_type": "code",
   "execution_count": 14,
   "metadata": {},
   "outputs": [],
   "source": [
    "def removing_marks(image):\n",
    "    mask = np.zeros(image.shape[:2], dtype=np.uint8)\n",
    "    image_array = np.array(image)[:,:,0]\n",
    "    mask1 = (image_array>100)\n",
    "    # mask1 to image\n",
    "    mask1 = mask1.astype(np.uint8)\n",
    "    mask1 = cv2.cvtColor(mask1, cv2.COLOR_GRAY2BGR)\n",
    "\n",
    "    kernel = np.ones((2,2), np.uint8)\n",
    "    mask1 = cv2.dilate(mask1, kernel, iterations=1)\n",
    "\n",
    "    mask[image.shape[0] - 150:image.shape[0] - 10, 10:150] = 255\n",
    "\n",
    "    mask1 = np.array(mask1)[:,:,0]\n",
    "    mask2 = mask*mask1\n",
    "\n",
    "    restored_image = cv2.inpaint(image, mask2, 3, cv2.INPAINT_TELEA)\n",
    "    return restored_image"
   ]
  },
  {
   "cell_type": "code",
   "execution_count": null,
   "metadata": {},
   "outputs": [],
   "source": [
    "for label in selected_catogeries.keys():\n",
    "    folder = selected_catogeries[label]\n",
    "    print(folder, len(os.listdir(os.path.join(root,'original',folder))))\n",
    "    for file in os.listdir(os.path.join(root,'original',folder)):\n",
    "        image = cv2.imread(os.path.join(root,'original',folder,file))\n",
    "        # resize to 500, 750, 3\n",
    "        image = cv2.resize(image, (750, 500))\n",
    "        image = removing_marks(image)\n",
    "        # mkdir if not exist\n",
    "        if not os.path.exists(os.path.join(root,'preprocessed',folder)):\n",
    "            os.makedirs(os.path.join(root,'preprocessed',folder))\n",
    "        cv2.imwrite(os.path.join(root,'preprocessed',folder,file), image)\n",
    "        print(file, image.shape)\n"
   ]
  },
  {
   "cell_type": "code",
   "execution_count": null,
   "metadata": {},
   "outputs": [],
   "source": []
  }
 ],
 "metadata": {
  "kernelspec": {
   "display_name": "torch2",
   "language": "python",
   "name": "python3"
  },
  "language_info": {
   "codemirror_mode": {
    "name": "ipython",
    "version": 3
   },
   "file_extension": ".py",
   "mimetype": "text/x-python",
   "name": "python",
   "nbconvert_exporter": "python",
   "pygments_lexer": "ipython3",
   "version": "3.10.15"
  }
 },
 "nbformat": 4,
 "nbformat_minor": 2
}
