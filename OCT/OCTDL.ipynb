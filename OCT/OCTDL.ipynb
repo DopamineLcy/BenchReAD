{
 "cells": [
  {
   "cell_type": "code",
   "execution_count": 1,
   "metadata": {},
   "outputs": [],
   "source": [
    "import os\n",
    "import pandas as pd"
   ]
  },
  {
   "cell_type": "code",
   "execution_count": 13,
   "metadata": {},
   "outputs": [],
   "source": [
    "selected_catogeries = [\n",
    "    'NO', \n",
    "    'AMD',\n",
    "    'DME',\n",
    "    'ERM',\n",
    "    'RAO',\n",
    "    'RVO',\n",
    "    'VID',\n",
    "]"
   ]
  },
  {
   "cell_type": "code",
   "execution_count": null,
   "metadata": {},
   "outputs": [],
   "source": [
    "fnames = []\n",
    "dirs = []\n",
    "labels = []\n",
    "abnormal = []\n",
    "root = './data/OCTDL/'\n",
    "for folder in sorted(os.listdir(root+'preprocessed')):\n",
    "    if folder in selected_catogeries:\n",
    "        print(folder, len(os.listdir(os.path.join(root, 'preprocessed',folder))))\n",
    "        fnames.extend(os.listdir(os.path.join(root,'preprocessed', folder)))\n",
    "        dirs.extend([folder]*len(os.listdir(os.path.join(root, 'preprocessed', folder))))\n",
    "        labels.extend([folder]*len(os.listdir(os.path.join(root, 'preprocessed', folder))))\n",
    "        if folder == 'NO':\n",
    "            abnormal.extend([0]*len(os.listdir(os.path.join(root, 'preprocessed',folder))))\n",
    "        else:\n",
    "            abnormal.extend([1]*len(os.listdir(os.path.join(root, 'preprocessed', folder))))\n",
    "OCTDL_dict = pd.DataFrame({\"fnames\": fnames, \"dirs\": dirs, \"labels\": labels, \"abnormal\": abnormal})\n",
    "OCTDL_dict.to_csv(os.path.join(root, \"OCTDL_test.csv\"), index=False)"
   ]
  },
  {
   "cell_type": "code",
   "execution_count": null,
   "metadata": {},
   "outputs": [],
   "source": []
  }
 ],
 "metadata": {
  "kernelspec": {
   "display_name": "torch2",
   "language": "python",
   "name": "python3"
  },
  "language_info": {
   "codemirror_mode": {
    "name": "ipython",
    "version": 3
   },
   "file_extension": ".py",
   "mimetype": "text/x-python",
   "name": "python",
   "nbconvert_exporter": "python",
   "pygments_lexer": "ipython3",
   "version": "3.10.15"
  }
 },
 "nbformat": 4,
 "nbformat_minor": 2
}
