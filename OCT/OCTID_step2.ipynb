{
 "cells": [
  {
   "cell_type": "code",
   "execution_count": 49,
   "metadata": {},
   "outputs": [],
   "source": [
    "import os\n",
    "import pandas as pd"
   ]
  },
  {
   "cell_type": "code",
   "execution_count": 50,
   "metadata": {},
   "outputs": [],
   "source": [
    "selected_catogeries = {\n",
    "    'NO': 'Normal-Retinal-OCT-images', \n",
    "    'AMD': 'Age-related-Macular-Degeneration-Retinal-OCT-images',\n",
    "    'DR': 'Diabetic-Retinopathy-Retinal-OCT-Images',\n",
    "    'CSR': 'Central-serous-retinopathy-retinal-OCT-images',\n",
    "    'MH': 'Macular-Hole-Retinal-OCT-images'\n",
    "}"
   ]
  },
  {
   "cell_type": "code",
   "execution_count": null,
   "metadata": {},
   "outputs": [],
   "source": [
    "fnames = []\n",
    "dirs = []\n",
    "labels = []\n",
    "abnormal = []\n",
    "root = './data/OCTID/'\n",
    "for label in selected_catogeries.keys():\n",
    "    folder = selected_catogeries[label]\n",
    "    print(folder, len(os.listdir(os.path.join(root, 'preprocessed', folder))))\n",
    "    fnames.extend(os.listdir(os.path.join(root, 'preprocessed', folder)))\n",
    "    dirs.extend([folder]*len(os.listdir(os.path.join(root, 'preprocessed', folder))))\n",
    "    labels.extend([label]*len(os.listdir(os.path.join(root, 'preprocessed', folder))))\n",
    "    if label == 'NO':\n",
    "        abnormal.extend([0]*len(os.listdir(os.path.join(root, 'preprocessed', folder))))\n",
    "    else:\n",
    "        abnormal.extend([1]*len(os.listdir(os.path.join(root, 'preprocessed', folder))))\n",
    "    \n",
    "OCTID_dict = pd.DataFrame({\"fnames\": fnames, \"dirs\": dirs, \"labels\": labels, \"abnormal\": abnormal})\n",
    "OCTID_dict.to_csv(os.path.join(root, \"OCTID_test.csv\"), index=False)"
   ]
  },
  {
   "cell_type": "code",
   "execution_count": null,
   "metadata": {},
   "outputs": [],
   "source": []
  }
 ],
 "metadata": {
  "kernelspec": {
   "display_name": "torch2",
   "language": "python",
   "name": "python3"
  },
  "language_info": {
   "codemirror_mode": {
    "name": "ipython",
    "version": 3
   },
   "file_extension": ".py",
   "mimetype": "text/x-python",
   "name": "python",
   "nbconvert_exporter": "python",
   "pygments_lexer": "ipython3",
   "version": "3.10.15"
  }
 },
 "nbformat": 4,
 "nbformat_minor": 2
}
