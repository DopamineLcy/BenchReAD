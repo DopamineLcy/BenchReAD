{
 "cells": [
  {
   "cell_type": "code",
   "execution_count": 1,
   "metadata": {},
   "outputs": [],
   "source": [
    "import os\n",
    "import pandas as pd\n",
    "import numpy as np\n",
    "import cv2\n",
    "import matplotlib.pyplot as plt\n",
    "import random\n",
    "seed = 0\n",
    "random.seed(seed)\n",
    "np.random.seed(seed)\n"
   ]
  },
  {
   "cell_type": "markdown",
   "metadata": {},
   "source": [
    "# generate"
   ]
  },
  {
   "cell_type": "code",
   "execution_count": null,
   "metadata": {},
   "outputs": [],
   "source": [
    "oct_root = './data/OCT_2017'\n",
    "\n",
    "splits = [\"train\", \"val\", \"test\"]\n",
    "classes = [\"CNV\", \"DME\", \"DRUSEN\", \"NORMAL\"]\n",
    "dict_OCT_2017 = {}\n",
    "for split in splits:\n",
    "    for cur_class in classes:\n",
    "        dict_OCT_2017[f\"{split}_{cur_class}_images\"] = os.listdir(os.path.join(oct_root, split, cur_class))\n",
    "        print(f\"{split}_{cur_class}_images\", len(dict_OCT_2017[f\"{split}_{cur_class}_images\"]), len(set([i.split(\"-\")[1] for i in dict_OCT_2017[f\"{split}_{cur_class}_images\"]])))\n"
   ]
  },
  {
   "cell_type": "code",
   "execution_count": null,
   "metadata": {},
   "outputs": [],
   "source": [
    "train_images_valid = []\n",
    "train_images_valid_splits = []\n",
    "train_images_valid_labels = []\n",
    "train_images_valid_abnormal = []\n",
    "\n",
    "train_images_labeled = []\n",
    "train_images_labeled_splits = []\n",
    "train_images_labeled_labels = []\n",
    "train_images_labeled_abnormal = []\n",
    "\n",
    "train_images_unlabeled = []\n",
    "train_images_unlabeled_splits = []\n",
    "train_images_unlabeled_labels = []\n",
    "train_images_unlabeled_abnormal = []\n",
    "for each_class in classes:\n",
    "    print(each_class)\n",
    "    train_patient_ids = list(set([i.split(\"-\")[1] for i in dict_OCT_2017[f\"train_{each_class}_images\"]]))\n",
    "    # print(len(train_patient_ids))\n",
    "    patient_ids_valid = np.random.choice(train_patient_ids, 50, replace=False)\n",
    "    train_patient_ids = [i for i in train_patient_ids if i not in patient_ids_valid]\n",
    "    # print(len(train_patient_ids))\n",
    "    patient_ids_labeled = np.random.choice(train_patient_ids, len(train_patient_ids)//3, replace=False)\n",
    "    train_patient_ids = [i for i in train_patient_ids if i not in patient_ids_labeled]\n",
    "    train_patient_ids_unlabeled = train_patient_ids\n",
    "    # print(len(train_patient_ids))\n",
    "\n",
    "    cur_train_images_valid = [i for i in dict_OCT_2017[f\"train_{each_class}_images\"] if i.split(\"-\")[1] in patient_ids_valid]\n",
    "    # group by patient id\n",
    "    cur_train_images_valid_grouped = {}\n",
    "    for i in cur_train_images_valid:\n",
    "        if i.split(\"-\")[1] not in cur_train_images_valid_grouped:\n",
    "            cur_train_images_valid_grouped[i.split(\"-\")[1]] = [i]\n",
    "        else:\n",
    "            cur_train_images_valid_grouped[i.split(\"-\")[1]].append(i)\n",
    "    cur_train_images_valid = [np.random.choice(cur_train_images_valid_grouped[i]) for i in cur_train_images_valid_grouped]\n",
    "\n",
    "    train_images_valid.extend(cur_train_images_valid)\n",
    "    train_images_valid_splits.extend(['train']*len(cur_train_images_valid))\n",
    "    train_images_valid_labels.extend([each_class]*len(cur_train_images_valid))\n",
    "    train_images_valid_abnormal.extend([1]*len(cur_train_images_valid) if each_class != \"NORMAL\" else [0]*len(cur_train_images_valid))\n",
    "    print(len(cur_train_images_valid))\n",
    "\n",
    "    cur_train_images_labeled = [i for i in dict_OCT_2017[f\"train_{each_class}_images\"] if i.split(\"-\")[1] in patient_ids_labeled]\n",
    "    train_images_labeled.extend(cur_train_images_labeled)\n",
    "    train_images_labeled_splits.extend(['train']*len(cur_train_images_labeled))\n",
    "    train_images_labeled_labels.extend([each_class]*len(cur_train_images_labeled))\n",
    "    train_images_labeled_abnormal.extend([1]*len(cur_train_images_labeled) if each_class != \"NORMAL\" else [0]*len(cur_train_images_labeled))\n",
    "\n",
    "    print(len(cur_train_images_labeled))\n",
    "    cur_train_images_unlabeled = [i for i in dict_OCT_2017[f\"train_{each_class}_images\"] if i.split(\"-\")[1] in train_patient_ids_unlabeled]\n",
    "    train_images_unlabeled.extend(cur_train_images_unlabeled)\n",
    "    train_images_unlabeled_splits.extend(['train']*len(cur_train_images_unlabeled))\n",
    "    train_images_unlabeled_labels.extend([each_class]*len(cur_train_images_unlabeled))\n",
    "    train_images_unlabeled_abnormal.extend([1]*len(cur_train_images_unlabeled) if each_class != \"NORMAL\" else [0]*len(cur_train_images_unlabeled))\n",
    "    print(len(cur_train_images_unlabeled))"
   ]
  },
  {
   "cell_type": "code",
   "execution_count": 32,
   "metadata": {},
   "outputs": [],
   "source": [
    "oct_train_dict_valid = pd.DataFrame({\"fnames\": train_images_valid, \"split\": train_images_valid_splits, \"labels\": train_images_valid_labels, \"abnormal\": train_images_valid_abnormal})\n",
    "oct_train_dict_valid.to_csv(os.path.join(oct_root, \"BenchReAD\", \"valid.csv\"), index=False)\n",
    "oct_train_dict_labeled = pd.DataFrame({\"fnames\": train_images_labeled, \"split\": train_images_labeled_splits, \"labels\": train_images_labeled_labels, \"abnormal\": train_images_labeled_abnormal})\n",
    "oct_train_dict_labeled.to_csv(os.path.join(oct_root, \"BenchReAD\", \"train_labeled.csv\"), index=False)\n",
    "oct_train_dict_unlabeled = pd.DataFrame({\"fnames\": train_images_unlabeled, \"split\": train_images_unlabeled_splits, \"labels\": train_images_unlabeled_labels, \"abnormal\": train_images_unlabeled_abnormal})\n",
    "oct_train_dict_unlabeled.to_csv(os.path.join(oct_root, \"BenchReAD\", \"train_unlabeled.csv\"), index=False)"
   ]
  },
  {
   "cell_type": "code",
   "execution_count": null,
   "metadata": {},
   "outputs": [],
   "source": [
    "test_images = []\n",
    "test_images_splits = []\n",
    "test_images_labels = []\n",
    "test_images_abnormal = []\n",
    "\n",
    "for each_class in classes:\n",
    "    print(each_class)\n",
    "    cur_valid_images = [i for i in dict_OCT_2017[f\"val_{each_class}_images\"]]\n",
    "    cur_test_images = [i for i in dict_OCT_2017[f\"test_{each_class}_images\"]]\n",
    "    test_images.extend(cur_valid_images)\n",
    "    test_images_splits.extend(['val']*len(cur_valid_images))\n",
    "    test_images.extend(cur_test_images)\n",
    "    test_images_splits.extend(['test']*len(cur_test_images))\n",
    "    test_images_labels.extend([each_class]*len(cur_valid_images))\n",
    "    test_images_labels.extend([each_class]*len(cur_test_images))\n",
    "    test_images_abnormal.extend([1]*len(cur_valid_images) if each_class != \"NORMAL\" else [0]*len(cur_valid_images))\n",
    "    test_images_abnormal.extend([1]*len(cur_test_images) if each_class != \"NORMAL\" else [0]*len(cur_test_images))\n",
    "    print(len(test_images))\n",
    "oct_test_dict = pd.DataFrame({\"fnames\": test_images, \"split\": test_images_splits, \"labels\": test_images_labels, \"abnormal\": test_images_abnormal})\n",
    "oct_test_dict.to_csv(os.path.join(oct_root, \"BenchReAD\", \"test.csv\"), index=False)\n"
   ]
  },
  {
   "cell_type": "code",
   "execution_count": null,
   "metadata": {},
   "outputs": [],
   "source": []
  }
 ],
 "metadata": {
  "kernelspec": {
   "display_name": "torch2",
   "language": "python",
   "name": "python3"
  },
  "language_info": {
   "codemirror_mode": {
    "name": "ipython",
    "version": 3
   },
   "file_extension": ".py",
   "mimetype": "text/x-python",
   "name": "python",
   "nbconvert_exporter": "python",
   "pygments_lexer": "ipython3",
   "version": "3.10.15"
  }
 },
 "nbformat": 4,
 "nbformat_minor": 2
}
